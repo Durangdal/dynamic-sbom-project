{
  "cells": [
    {
      "cell_type": "markdown",
      "metadata": {
        "id": "view-in-github",
        "colab_type": "text"
      },
      "source": [
        "<a href=\"https://colab.research.google.com/github/Durangdal/dynamic-sbom-project/blob/main/Hybrid_Runtime_SBOM_Generator.ipynb\" target=\"_parent\"><img src=\"https://colab.research.google.com/assets/colab-badge.svg\" alt=\"Open In Colab\"/></a>"
      ]
    },
    {
      "cell_type": "code",
      "source": [
        "# 이 스크립트는 eBPF 기반 모니터링과 애플리케이션 계측을 결합하여\n",
        "# 하이브리드 런타임 SBOM을 생성합니다.\n",
        "# eBPF를 통해 시스템 전반의 컴포넌트를 수집하고, 애플리케이션 계측으로\n",
        "# Python 패키지 정보를 정확하게 파악합니다.\n",
        "\n",
        "import os\n",
        "import sys\n",
        "import json\n",
        "from datetime import datetime\n",
        "import pkg_resources\n",
        "from cyclonedx.model.bom import Bom\n",
        "from cyclonedx.model.component import Component, ComponentType\n",
        "from cyclonedx.output.json import JsonV1Dot5\n",
        "\n",
        "# 참고: 실제 eBPF 프로그램 연동을 위해서는 bcc, libbpf-python과 같은 라이브러리가 필요합니다.\n",
        "# 이 코드는 개념을 설명하기 위해 'simulated_ebpf_data'를 사용합니다.\n",
        "\n",
        "def create_cyclonedx_template(app_name=\"Hybrid Runtime SBOM\"):\n",
        "    \"\"\"\n",
        "    CycloneDX SBOM의 기본 템플릿을 생성합니다.\n",
        "    Args:\n",
        "        app_name (str): SBOM을 생성할 애플리케이션의 이름입니다.\n",
        "    Returns:\n",
        "        Bom: 초기화된 CycloneDX Bom 객체입니다.\n",
        "    \"\"\"\n",
        "    bom = Bom()\n",
        "    bom.metadata.component = Component(\n",
        "        name=app_name,\n",
        "        type=ComponentType.APPLICATION,\n",
        "        bom_ref=f\"pkg:generic/{app_name.lower().replace(' ', '-')}\"\n",
        "    )\n",
        "    bom.metadata.tools.add(Component(name=\"Hybrid SBOM Generator\", vendor=\"User\", version=\"1.0\"))\n",
        "    return bom\n",
        "\n",
        "def get_application_components():\n",
        "    \"\"\"\n",
        "    현재 런타임에 로드된 Python 패키지들을 수집하여 CycloneDX 컴포넌트 형식으로 반환합니다.\n",
        "    'sys.modules'와 'pkg_resources'를 활용하여 정확한 정보를 얻습니다.\n",
        "    Returns:\n",
        "        dict: PURL을 키로 하는 컴포넌트 딕셔너리입니다.\n",
        "    \"\"\"\n",
        "    components = {}\n",
        "    for name, module in sys.modules.items():\n",
        "        try:\n",
        "            dist = pkg_resources.get_distribution(name)\n",
        "            purl = f\"pkg:pypi/{dist.project_name}@{dist.version}\"\n",
        "\n",
        "            # 중복 방지를 위해 PURL을 키로 사용\n",
        "            if purl not in components:\n",
        "                component = Component(\n",
        "                    name=dist.project_name,\n",
        "                    version=dist.version,\n",
        "                    purl=purl\n",
        "                )\n",
        "                component.type = ComponentType.LIBRARY\n",
        "                components[purl] = component\n",
        "        except (AttributeError, KeyError, pkg_resources.DistributionNotFound):\n",
        "            continue\n",
        "\n",
        "    return components\n",
        "\n",
        "def get_ebpf_components():\n",
        "    \"\"\"\n",
        "    (시뮬레이션) eBPF 프로그램을 통해 수집된 시스템 레벨의 동적 컴포넌트들을 반환합니다.\n",
        "    실제 구현에서는 이 함수가 eBPF 맵을 읽어 데이터를 가져옵니다.\n",
        "\n",
        "    Returns:\n",
        "        dict: PURL 또는 고유 식별자를 키로 하는 컴포넌트 딕셔너리입니다.\n",
        "    \"\"\"\n",
        "    # eBPF 프로그램 로직 (개념 설명)\n",
        "    # 1. BPF 프로그램 작성 (C/Rust) 및 컴파일: execve(), openat() 등 시스템 호출에 훅을 걸어\n",
        "    #    프로세스 실행 및 동적 라이브러리(.so) 로드 이벤트를 감지합니다.\n",
        "    # 2. BPF 맵 정의: 커널에서 사용자 공간으로 데이터를 전달하기 위한 맵을 정의합니다.\n",
        "    # 3. 사용자 공간 로직 (Python): bcc 라이브러리 등을 사용해 BPF 프로그램을 커널에 로드하고\n",
        "    #    주기적으로 맵에서 데이터를 읽어옵니다.\n",
        "\n",
        "    print(\"[eBPF] eBPF 맵에서 시스템 컴포넌트 데이터를 수집하는 중... (시뮬레이션)\")\n",
        "\n",
        "    # 예시 데이터: 시스템에서 동적으로 로드된 라이브러리 목록\n",
        "    simulated_ebpf_data = [\n",
        "        {\"name\": \"libssl\", \"version\": \"1.1.1\", \"path\": \"/usr/lib/x86_64-linux-gnu/libssl.so.1.1\"},\n",
        "        {\"name\": \"libc\", \"version\": \"2.31\", \"path\": \"/lib/x86_64-linux-gnu/libc.so.6\"}\n",
        "    ]\n",
        "\n",
        "    components = {}\n",
        "    for data in simulated_ebpf_data:\n",
        "        purl = f\"pkg:generic/{data['name']}@{data['version']}\"\n",
        "        component = Component(\n",
        "            name=data['name'],\n",
        "            version=data['version'],\n",
        "            purl=purl\n",
        "        )\n",
        "        component.type = ComponentType.LIBRARY\n",
        "        component.description = f\"Path: {data['path']}\"\n",
        "        components[purl] = component\n",
        "\n",
        "    return components\n",
        "\n",
        "def generate_hybrid_sbom():\n",
        "    \"\"\"\n",
        "    하이브리드 런타임 SBOM을 생성하고 'hybrid_sbom.json' 파일로 저장하는 메인 함수입니다.\n",
        "    \"\"\"\n",
        "    # 1. 애플리케이션 계측을 통해 Python 패키지 정보 수집\n",
        "    print(\"1. Python 애플리케이션 컴포넌트 수집 중...\")\n",
        "    app_components = get_application_components()\n",
        "\n",
        "    # 2. eBPF를 통해 시스템 레벨 컴포넌트 수집 (시뮬레이션)\n",
        "    print(\"2. eBPF 기반 시스템 컴포넌트 수집 중...\")\n",
        "    ebpf_components = get_ebpf_components()\n",
        "\n",
        "    # 3. 두 컴포넌트 목록 병합 (중복 제거)\n",
        "    print(\"3. 컴포넌트 목록 병합 및 중복 제거 중...\")\n",
        "    all_components = app_components\n",
        "    for purl, component in ebpf_components.items():\n",
        "        if purl not in all_components:\n",
        "            all_components[purl] = component\n",
        "\n",
        "    # 4. CycloneDX BOM 생성\n",
        "    print(\"4. CycloneDX BOM 생성 중...\")\n",
        "    bom = create_cyclonedx_template()\n",
        "    for component in all_components.values():\n",
        "        bom.components.add(component)\n",
        "\n",
        "    # 5. JSON 파일로 저장\n",
        "    print(\"5. JSON 파일로 저장 중...\")\n",
        "    outputter = JsonV1Dot5(bom)\n",
        "    json_string = outputter.output_as_string()\n",
        "\n",
        "    output_file = \"hybrid_sbom.json\"\n",
        "    with open(output_file, 'w', encoding='utf-8') as f:\n",
        "        f.write(json_string)\n",
        "\n",
        "    print(f\"\\n[완료] 하이브리드 SBOM이 '{output_file}' 파일로 성공적으로 생성되었습니다!\")\n",
        "\n",
        "# 스크립트 실행\n",
        "if __name__ == \"__main__\":\n",
        "    generate_hybrid_sbom()"
      ],
      "outputs": [
        {
          "output_type": "stream",
          "name": "stderr",
          "text": [
            "/tmp/ipython-input-3063017594.py:10: DeprecationWarning: pkg_resources is deprecated as an API. See https://setuptools.pypa.io/en/latest/pkg_resources.html\n",
            "  import pkg_resources\n"
          ]
        },
        {
          "output_type": "error",
          "ename": "ModuleNotFoundError",
          "evalue": "No module named 'cyclonedx'",
          "traceback": [
            "\u001b[0;31m---------------------------------------------------------------------------\u001b[0m",
            "\u001b[0;31mModuleNotFoundError\u001b[0m                       Traceback (most recent call last)",
            "\u001b[0;32m/tmp/ipython-input-3063017594.py\u001b[0m in \u001b[0;36m<cell line: 0>\u001b[0;34m()\u001b[0m\n\u001b[1;32m      9\u001b[0m \u001b[0;32mfrom\u001b[0m \u001b[0mdatetime\u001b[0m \u001b[0;32mimport\u001b[0m \u001b[0mdatetime\u001b[0m\u001b[0;34m\u001b[0m\u001b[0;34m\u001b[0m\u001b[0m\n\u001b[1;32m     10\u001b[0m \u001b[0;32mimport\u001b[0m \u001b[0mpkg_resources\u001b[0m\u001b[0;34m\u001b[0m\u001b[0;34m\u001b[0m\u001b[0m\n\u001b[0;32m---> 11\u001b[0;31m \u001b[0;32mfrom\u001b[0m \u001b[0mcyclonedx\u001b[0m\u001b[0;34m.\u001b[0m\u001b[0mmodel\u001b[0m\u001b[0;34m.\u001b[0m\u001b[0mbom\u001b[0m \u001b[0;32mimport\u001b[0m \u001b[0mBom\u001b[0m\u001b[0;34m\u001b[0m\u001b[0;34m\u001b[0m\u001b[0m\n\u001b[0m\u001b[1;32m     12\u001b[0m \u001b[0;32mfrom\u001b[0m \u001b[0mcyclonedx\u001b[0m\u001b[0;34m.\u001b[0m\u001b[0mmodel\u001b[0m\u001b[0;34m.\u001b[0m\u001b[0mcomponent\u001b[0m \u001b[0;32mimport\u001b[0m \u001b[0mComponent\u001b[0m\u001b[0;34m,\u001b[0m \u001b[0mComponentType\u001b[0m\u001b[0;34m\u001b[0m\u001b[0;34m\u001b[0m\u001b[0m\n\u001b[1;32m     13\u001b[0m \u001b[0;32mfrom\u001b[0m \u001b[0mcyclonedx\u001b[0m\u001b[0;34m.\u001b[0m\u001b[0moutput\u001b[0m\u001b[0;34m.\u001b[0m\u001b[0mjson\u001b[0m \u001b[0;32mimport\u001b[0m \u001b[0mJsonV1Dot5\u001b[0m\u001b[0;34m\u001b[0m\u001b[0;34m\u001b[0m\u001b[0m\n",
            "\u001b[0;31mModuleNotFoundError\u001b[0m: No module named 'cyclonedx'",
            "",
            "\u001b[0;31m---------------------------------------------------------------------------\u001b[0;32m\nNOTE: If your import is failing due to a missing package, you can\nmanually install dependencies using either !pip or !apt.\n\nTo view examples of installing some common dependencies, click the\n\"Open Examples\" button below.\n\u001b[0;31m---------------------------------------------------------------------------\u001b[0m\n"
          ],
          "errorDetails": {
            "actions": [
              {
                "action": "open_url",
                "actionText": "Open Examples",
                "url": "/notebooks/snippets/importing_libraries.ipynb"
              }
            ]
          }
        }
      ],
      "execution_count": 1,
      "metadata": {
        "colab": {
          "base_uri": "https://localhost:8080/",
          "height": 451
        },
        "id": "TJMFIrFJVp7y",
        "outputId": "269dea9a-8593-4897-f7aa-4056435b0a45"
      }
    }
  ],
  "metadata": {
    "colab": {
      "provenance": [],
      "include_colab_link": true
    },
    "kernelspec": {
      "display_name": "Python 3",
      "name": "python3"
    }
  },
  "nbformat": 4,
  "nbformat_minor": 0
}